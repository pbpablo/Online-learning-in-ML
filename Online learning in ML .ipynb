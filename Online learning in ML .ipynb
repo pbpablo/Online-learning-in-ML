{
 "cells": [
  {
   "cell_type": "markdown",
   "id": "eb4152bc",
   "metadata": {},
   "source": [
    "**Online learning (also known as incremental or out-of-core learning)**\n",
    "Here, the ML model training is done incrementally and periodically. It\n",
    "embraces the fact that learning environments can change every second."
   ]
  },
  {
   "cell_type": "code",
   "execution_count": 4,
   "id": "2390112d",
   "metadata": {},
   "outputs": [
    {
     "name": "stdout",
     "output_type": "stream",
     "text": [
      "0.0\n"
     ]
    }
   ],
   "source": [
    "import numpy as np\n",
    "from sklearn import linear_model\n",
    "\n",
    "n_samples, n_features = 1, 500 #single row data\n",
    "\n",
    "y = np.random.randn(n_samples)\n",
    "X = np.random.randn(n_samples, n_features)\n",
    "\n",
    "clf = linear_model.SGDRegressor()\n",
    "\n",
    "import time\n",
    "\n",
    "start_time = time.time()\n",
    "\n",
    "clf.partial_fit(X, y)\n",
    "\n",
    "elapsed_time = time.time() - start_time\n",
    "\n",
    "print(elapsed_time) #time taken to train a single data point"
   ]
  },
  {
   "cell_type": "markdown",
   "id": "5ac19897",
   "metadata": {},
   "source": [
    "Even if you train new models each week, or even each day, you’re still lagging behind. Your model is never fully up-to-date with current events, because it’s trained on stale data. Ideally, what you want is a model that can learn from new examples in something close to real time. Not only predict in real time, but learn in real time, too.\n",
    "\n",
    "You can also use river(A Python package or go-to library for doing machine learning on streaming data)\n",
    "or you can use vowpal wabbit(Vowpal Wabbit provides a fast, flexible, online, and active learning solution that empowers you to solve complex interactive machine learning problems.)"
   ]
  },
  {
   "cell_type": "code",
   "execution_count": 5,
   "id": "3546c041",
   "metadata": {},
   "outputs": [],
   "source": [
    "y = np.random.randn(n_samples)\n",
    "X = np.random.randn(n_samples, n_features)"
   ]
  },
  {
   "cell_type": "code",
   "execution_count": 8,
   "id": "e1c6741e",
   "metadata": {},
   "outputs": [
    {
     "data": {
      "text/plain": [
       "SGDRegressor()"
      ]
     },
     "execution_count": 8,
     "metadata": {},
     "output_type": "execute_result"
    }
   ],
   "source": [
    "clf.partial_fit(X, y)"
   ]
  }
 ],
 "metadata": {
  "kernelspec": {
   "display_name": "Python 3",
   "language": "python",
   "name": "python3"
  },
  "language_info": {
   "codemirror_mode": {
    "name": "ipython",
    "version": 3
   },
   "file_extension": ".py",
   "mimetype": "text/x-python",
   "name": "python",
   "nbconvert_exporter": "python",
   "pygments_lexer": "ipython3",
   "version": "3.8.8"
  }
 },
 "nbformat": 4,
 "nbformat_minor": 5
}
